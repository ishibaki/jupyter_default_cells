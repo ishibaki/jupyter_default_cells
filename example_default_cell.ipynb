{
 "cells": [
  {
   "cell_type": "code",
   "execution_count": null,
   "metadata": {},
   "outputs": [],
   "source": [
    "# Scientific libraries\n",
    "import scipy\n",
    "import numpy as np\n",
    "import pandas as pd\n",
    "\n",
    "# Graphic libraries\n",
    "import matplotlib as mpl\n",
    "import matplotlib.pyplot as plt\n",
    "# import japanize_matplotlib\n",
    "# import seaborn as sns\n",
    "# import holoviews as hv\n",
    "%matplotlib inline\n",
    "%config InlineBackend.figure_formats = {'png', 'retina'}\n",
    "\n",
    "# Statistical libraries\n",
    "# import statsmodels.stats as stats\n",
    "# import statsmodels.stats.multicomp as multi\n",
    "# import statsmodels.formula.api as smf\n",
    "# import scikit_posthocs as sp\n",
    "\n",
    "# Other libraries\n",
    "# import re\n",
    "# from datetime import datetime\n",
    "# import collections\n",
    "\n",
    "# Creating alias for magic commands\n",
    "%alias_magic t time"
   ]
  }
 ],
 "metadata": {
  "kernelspec": {
   "display_name": "Python 3",
   "language": "python",
   "name": "python3"
  },
  "language_info": {
   "codemirror_mode": {
    "name": "ipython",
    "version": 3
   },
   "file_extension": ".py",
   "mimetype": "text/x-python",
   "name": "python",
   "nbconvert_exporter": "python",
   "pygments_lexer": "ipython3",
   "version": "3.7.0"
  }
 },
 "nbformat": 4,
 "nbformat_minor": 2
}
